{
 "cells": [
  {
   "cell_type": "code",
   "execution_count": 1,
   "source": [
    "\"\"\"\n",
    "This is the grid module. It contains the Grid class and its associated methods.\n",
    "\"\"\"\n",
    "\n",
    "import random\n",
    "\n",
    "class Grid():\n",
    "    \"\"\"\n",
    "    A class representing the grid from the swap puzzle. It supports rectangular grids. \n",
    "\n",
    "    Attributes: \n",
    "    -----------\n",
    "    m: int\n",
    "        Number of lines in the grid\n",
    "    n: int\n",
    "        Number of columns in the grid\n",
    "    state: list[list[int]]\n",
    "        The state of the grid, a list of list such that state[i][j] is the number in the cell (i, j), i.e., in the i-th line and j-th column. \n",
    "        Note: lines are numbered 0..m and columns are numbered 0..n.\n",
    "    \"\"\"\n",
    "    \n",
    "    def __init__(self, m, n, initial_state = []):\n",
    "        \"\"\"\n",
    "        Initializes the grid.\n",
    "\n",
    "        Parameters: \n",
    "        -----------\n",
    "        m: int\n",
    "            Number of lines in the grid\n",
    "        n: int\n",
    "            Number of columns in the grid\n",
    "        initial_state: list[list[int]]\n",
    "            The intiail state of the grid. Default is empty (then the grid is created sorted).\n",
    "        \"\"\"\n",
    "        self.m = m\n",
    "        self.n = n\n",
    "        if not initial_state:\n",
    "            initial_state = [list(range(i*n+1, (i+1)*n+1)) for i in range(m)]            \n",
    "        self.state = initial_state\n",
    "\n",
    "    def __str__(self): \n",
    "        \"\"\"\n",
    "        Prints the state of the grid as text.\n",
    "        \"\"\"\n",
    "        output = f\"The grid is in the following state:\\n\"\n",
    "        for i in range(self.m): \n",
    "            output += f\"{self.state[i]}\\n\"\n",
    "        return output\n",
    "\n",
    "    def __repr__(self): \n",
    "        \"\"\"\n",
    "        Returns a representation of the grid with number of rows and columns.\n",
    "        \"\"\"\n",
    "        return f\"<grid.Grid: m={self.m}, n={self.n}>\"\n",
    "\n",
    "    def is_sorted(self):\n",
    "        L=[list(range(i*self.n+1, (i+1)*self.n+1)) for i in range(self.m)]\n",
    "        if self.state==L :\n",
    "            print(\"the grid is sorted\")\n",
    "        else :\n",
    "            print(\"the grid still not sorted\")\n",
    "        return()\n",
    "\n",
    "        \"\"\"\n",
    "        Checks is the current state of the grid is sorte and returns the answer as a boolean.\n",
    "        \"\"\"\n",
    "        # TODO: implement this function (and remove the line \"raise NotImplementedError\").\n",
    "        #raise NotImplementedError\n",
    "\n",
    "    def swap(self, cell1, cell2):\n",
    "        \"\"\"\n",
    "        Implements the swap operation between two cells. Raises an exception if the swap is not allowed.\n",
    "\n",
    "        Parameters: \n",
    "        -----------\n",
    "        cell1, cell2: tuple[int]\n",
    "            The two cells to swap. They must be in the format (i, j) where i is the line and j the column number of the cell. \n",
    "        \"\"\"\n",
    "        i,j=cell1[0],cell1[1]\n",
    "        a,b=cell2[0],cell2[1]\n",
    "        if (abs(i-a)<2 and abs(j-b<2)):\n",
    "            self.state[i][j],self.state[a][b]=self.state[a][b],self.state[i][j]\n",
    "        else :\n",
    "            print(\"swap seems impossible\")\n",
    "        return()\n",
    "\n",
    "    def swap_seq(self, cell_pair_list):\n",
    "        for k in range(len(cell_pair_list)):\n",
    "            self.swap(cell_pair_list[k][0],cell_pair_list[k][1])\n",
    "        return()\n",
    "        \"\"\"\n",
    "        Executes a sequence of swaps. \n",
    "\n",
    "        Parameters: \n",
    "        -----------\n",
    "        cell_pair_list: list[tuple[tuple[int]]]\n",
    "            List of swaps, each swap being a tuple of two cells (each cell being a tuple of integers). \n",
    "            So the format should be [((i1, j1), (i2, j2)), ((i1', j1'), (i2', j2')), ...].\n",
    "        \"\"\"\n",
    "        # TODO: implement this function (and remove the line \"raise NotImplementedError\").\n",
    "        #raise NotImplementedError\n",
    "\n",
    "    @classmethod\n",
    "    def grid_from_file(cls, file_name): \n",
    "        \"\"\"\n",
    "        Creates a grid object from class Grid, initialized with the information from the file file_name.\n",
    "        \n",
    "        Parameters: \n",
    "        -----------\n",
    "        file_name: str\n",
    "            Name of the file to load. The file must be of the format: \n",
    "            - first line contains \"m n\" \n",
    "            - next m lines contain n integers that represent the state of the corresponding cell\n",
    "\n",
    "        Output: \n",
    "        -------\n",
    "        grid: Grid\n",
    "            The grid\n",
    "        \"\"\"\n",
    "        with open(file_name, \"r\") as file:\n",
    "            m, n = map(int, file.readline().split())\n",
    "            initial_state = [[] for i_line in range(m)]\n",
    "            for i_line in range(m):\n",
    "                line_state = list(map(int, file.readline().split()))\n",
    "                if len(line_state) != n: \n",
    "                    raise Exception(\"Format incorrect\")\n",
    "                initial_state[i_line] = line_state\n",
    "            grid = Grid(m, n, initial_state)\n",
    "        return grid"
   ],
   "outputs": [],
   "metadata": {}
  },
  {
   "cell_type": "code",
   "execution_count": 2,
   "source": [
    "from grid import Grid\n",
    "\n",
    "g = Grid(2, 3)\n",
    "print(g)\n",
    "\n",
    "data_path = \"../input/\"\n",
    "file_name = data_path + \"grid0.in\"\n",
    "\n",
    "print(file_name)\n",
    "\n",
    "g = Grid.grid_from_file(file_name)\n",
    "print(g)"
   ],
   "outputs": [
    {
     "output_type": "stream",
     "name": "stdout",
     "text": [
      "The grid is in the following state:\n",
      "[1, 2, 3]\n",
      "[4, 5, 6]\n",
      "\n",
      "../input/grid0.in\n",
      "The grid is in the following state:\n",
      "[2, 4]\n",
      "[3, 1]\n",
      "\n"
     ]
    }
   ],
   "metadata": {}
  },
  {
   "cell_type": "code",
   "execution_count": 3,
   "source": [
    "print(g)"
   ],
   "outputs": [
    {
     "output_type": "stream",
     "name": "stdout",
     "text": [
      "The grid is in the following state:\n",
      "[2, 4]\n",
      "[3, 1]\n",
      "\n"
     ]
    }
   ],
   "metadata": {}
  },
  {
   "cell_type": "code",
   "execution_count": 4,
   "source": [
    "g.is_sorted()"
   ],
   "outputs": [
    {
     "output_type": "stream",
     "name": "stdout",
     "text": [
      "the grid still not sorted\n"
     ]
    },
    {
     "output_type": "execute_result",
     "data": {
      "text/plain": [
       "()"
      ]
     },
     "metadata": {},
     "execution_count": 4
    }
   ],
   "metadata": {}
  },
  {
   "cell_type": "code",
   "execution_count": 5,
   "source": [
    "g.swap_seq([((0,1),(0,0)),((1,1),(0,1))])"
   ],
   "outputs": [
    {
     "output_type": "execute_result",
     "data": {
      "text/plain": [
       "()"
      ]
     },
     "metadata": {},
     "execution_count": 5
    }
   ],
   "metadata": {}
  },
  {
   "cell_type": "code",
   "execution_count": 6,
   "source": [
    "print(g)"
   ],
   "outputs": [
    {
     "output_type": "stream",
     "name": "stdout",
     "text": [
      "The grid is in the following state:\n",
      "[4, 1]\n",
      "[3, 2]\n",
      "\n"
     ]
    }
   ],
   "metadata": {}
  },
  {
   "cell_type": "code",
   "execution_count": 7,
   "source": [
    "g.swap_seq([((0,1),(0,0)),((1,1),(0,1))])"
   ],
   "outputs": [
    {
     "output_type": "execute_result",
     "data": {
      "text/plain": [
       "()"
      ]
     },
     "metadata": {},
     "execution_count": 7
    }
   ],
   "metadata": {}
  },
  {
   "cell_type": "code",
   "execution_count": 8,
   "source": [
    "print(g)"
   ],
   "outputs": [
    {
     "output_type": "stream",
     "name": "stdout",
     "text": [
      "The grid is in the following state:\n",
      "[1, 2]\n",
      "[3, 4]\n",
      "\n"
     ]
    }
   ],
   "metadata": {}
  },
  {
   "cell_type": "code",
   "execution_count": 9,
   "source": [
    "g.is_sorted()"
   ],
   "outputs": [
    {
     "output_type": "stream",
     "name": "stdout",
     "text": [
      "the grid is sorted\n"
     ]
    },
    {
     "output_type": "execute_result",
     "data": {
      "text/plain": [
       "()"
      ]
     },
     "metadata": {},
     "execution_count": 9
    }
   ],
   "metadata": {}
  }
 ],
 "nbformat": 4,
 "nbformat_minor": 2,
 "metadata": {
  "language_info": {
   "codemirror_mode": {
    "name": "ipython",
    "version": 3
   },
   "file_extension": ".py",
   "mimetype": "text/x-python",
   "name": "python",
   "nbconvert_exporter": "python",
   "pygments_lexer": "ipython3",
   "version": 3
  }
 }
}